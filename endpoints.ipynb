{
    "metadata": {
        "kernelspec": {
            "name": "SQL",
            "display_name": "SQL",
            "language": "sql"
        },
        "language_info": {
            "name": "sql",
            "version": ""
        }
    },
    "nbformat_minor": 2,
    "nbformat": 4,
    "cells": [
        {
            "cell_type": "markdown",
            "source": [
                "# Fetching locations"
            ],
            "metadata": {
                "azdata_cell_guid": "691c2cf5-51ba-494c-8a55-bac351fba5fa"
            }
        },
        {
            "cell_type": "code",
            "source": [
                "SELECT name, nameID as locationID, id as _id\r\n",
                "FROM [iot].[locations];"
            ],
            "metadata": {
                "azdata_cell_guid": "fa63511f-b138-43f1-8b01-ba4e8f16f564"
            },
            "outputs": [
                {
                    "output_type": "display_data",
                    "data": {
                        "text/html": "(1 row affected)"
                    },
                    "metadata": {}
                },
                {
                    "output_type": "display_data",
                    "data": {
                        "text/html": "Total execution time: 00:00:00.017"
                    },
                    "metadata": {}
                },
                {
                    "output_type": "execute_result",
                    "metadata": {},
                    "execution_count": 64,
                    "data": {
                        "application/vnd.dataresource+json": {
                            "schema": {
                                "fields": [
                                    {
                                        "name": "name"
                                    },
                                    {
                                        "name": "locationID"
                                    },
                                    {
                                        "name": "_id"
                                    }
                                ]
                            },
                            "data": [
                                {
                                    "0": "Churchill 1C",
                                    "1": "churchill-1c",
                                    "2": "1"
                                }
                            ]
                        },
                        "text/html": "<table><tr><th>name</th><th>locationID</th><th>_id</th></tr><tr><td>Churchill 1C</td><td>churchill-1c</td><td>1</td></tr></table>"
                    }
                }
            ],
            "execution_count": 64
        },
        {
            "cell_type": "markdown",
            "source": [
                "# Fetching data"
            ],
            "metadata": {
                "azdata_cell_guid": "ad1b744c-6fa9-4403-b53f-b31f762e6437"
            }
        },
        {
            "cell_type": "code",
            "source": [
                "-- per minute\r\n",
                "DECLARE @location VARCHAR(50);\r\n",
                "SET @location = 'churchill-1c';\r\n",
                "\r\n",
                "SELECT TOP 1000 dateadd(mi, datediff(mi, 0, timestamp), 0) as timestamp, AVG(temperatureDHT) as temperature, AVG(pressureLPS) as pressure, AVG(humidityDHT) as humidity, AVG(eco2) as eco2, AVG(wifiDevices) as wifiDevices, COUNT(timestamp) as '_count'\r\n",
                "FROM [iot].[messages] m\r\n",
                "INNER JOIN [iot].[locations] l\r\n",
                "ON m.locationID = l.id and l.nameID = @location\r\n",
                "GROUP BY dateadd(mi, datediff(mi, 0, timestamp), 0)\r\n",
                "ORDER BY timestamp DESC"
            ],
            "metadata": {
                "azdata_cell_guid": "0456872b-aebe-493e-a9bd-7cfcf20f0288"
            },
            "outputs": [],
            "execution_count": null
        },
        {
            "cell_type": "code",
            "source": [
                "-- per hour\r\n",
                "DECLARE @location VARCHAR(50);\r\n",
                "SET @location = 'churchill-1c';\r\n",
                "\r\n",
                "SELECT TOP 1000 dateadd(hour, datediff(hour, 0, timestamp), 0) as timestamp, AVG(temperatureDHT) as temperature, AVG(pressureLPS) as pressure, AVG(humidityDHT) as humidity, AVG(eco2) as eco2, AVG(wifiDevices) as wifiDevices, COUNT(timestamp) as '_count'\r\n",
                "FROM [iot].[messages] m\r\n",
                "INNER JOIN [iot].[locations] l\r\n",
                "ON m.locationID = l.id and l.nameID = @location\r\n",
                "GROUP BY dateadd(hour, datediff(hour, 0, timestamp), 0)\r\n",
                "ORDER BY timestamp DESC"
            ],
            "metadata": {
                "azdata_cell_guid": "1c728ffe-fe94-47f2-ab63-17c93ad7be43"
            },
            "outputs": [],
            "execution_count": null
        },
        {
            "cell_type": "code",
            "source": [
                "-- per X minutes\r\n",
                "DECLARE @location VARCHAR(50);\r\n",
                "SET @location = 'churchill-1c';\r\n",
                "\r\n",
                "DECLARE @perMinutes INT;\r\n",
                "SET @perMinutes = 20;\r\n",
                "\r\n",
                "SELECT TOP 1000 dateadd(mi, datediff(mi,0, timestamp) / @perMinutes * @perMinutes, 0) as timestamp, AVG(temperatureDHT) as temperature, AVG(pressureLPS) as pressure, AVG(humidityDHT) as humidity, AVG(eco2) as eco2, AVG(wifiDevices) as wifiDevices, COUNT(timestamp) as '_count'\r\n",
                "FROM [iot].[messages] m\r\n",
                "INNER JOIN [iot].[locations] l\r\n",
                "ON m.locationID = l.id and l.nameID = @location\r\n",
                "GROUP BY dateadd(mi, datediff(mi,0, timestamp) / @perMinutes * @perMinutes, 0)\r\n",
                "ORDER BY timestamp DESC"
            ],
            "metadata": {
                "azdata_cell_guid": "c42b8adb-3a86-40c6-b264-87b1cb9554c9"
            },
            "outputs": [],
            "execution_count": null
        }
    ]
}