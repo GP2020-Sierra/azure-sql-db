{
    "metadata": {
        "kernelspec": {
            "name": "SQL",
            "display_name": "SQL",
            "language": "sql"
        },
        "language_info": {
            "name": "sql",
            "version": ""
        }
    },
    "nbformat_minor": 2,
    "nbformat": 4,
    "cells": [
        {
            "cell_type": "markdown",
            "source": [
                "# Fetching locations"
            ],
            "metadata": {
                "azdata_cell_guid": "691c2cf5-51ba-494c-8a55-bac351fba5fa"
            }
        },
        {
            "cell_type": "code",
            "source": [
                "SELECT name, nameID as locationID, id as _id\r\n",
                "FROM [iot].[locations];"
            ],
            "metadata": {
                "azdata_cell_guid": "fa63511f-b138-43f1-8b01-ba4e8f16f564"
            },
            "outputs": [],
            "execution_count": null
        },
        {
            "cell_type": "markdown",
            "source": [
                "# Fetching data"
            ],
            "metadata": {
                "azdata_cell_guid": "ad1b744c-6fa9-4403-b53f-b31f762e6437"
            }
        },
        {
            "cell_type": "code",
            "source": [
                "-- per minute\r\n",
                "DECLARE @location VARCHAR(50);\r\n",
                "SET @location = 'churchill-1c';\r\n",
                "\r\n",
                "SELECT TOP 1000 dateadd(mi, datediff(mi, 0, timestamp), 0) as timestamp, AVG(temperatureDHT) as temperature, AVG(pressureLPS) as pressure, AVG(humidityDHT) as humidity, AVG(eco2) as eco2, AVG(wifiDevices) as wifiDevices, COUNT(timestamp) as '_count'\r\n",
                "FROM [iot].[messages] m\r\n",
                "INNER JOIN [iot].[locations] l\r\n",
                "ON m.locationID = l.id and l.nameID = @location\r\n",
                "GROUP BY dateadd(mi, datediff(mi, 0, timestamp), 0)\r\n",
                "ORDER BY timestamp DESC"
            ],
            "metadata": {
                "azdata_cell_guid": "0456872b-aebe-493e-a9bd-7cfcf20f0288"
            },
            "outputs": [],
            "execution_count": null
        },
        {
            "cell_type": "code",
            "source": [
                "-- per hour\r\n",
                "DECLARE @location VARCHAR(50);\r\n",
                "SET @location = 'churchill-1c';\r\n",
                "\r\n",
                "SELECT TOP 1000 dateadd(hour, datediff(hour, 0, timestamp), 0) as timestamp, AVG(temperatureDHT) as temperature, AVG(pressureLPS) as pressure, AVG(humidityDHT) as humidity, AVG(eco2) as eco2, AVG(wifiDevices) as wifiDevices, COUNT(timestamp) as '_count'\r\n",
                "FROM [iot].[messages] m\r\n",
                "INNER JOIN [iot].[locations] l\r\n",
                "ON m.locationID = l.id and l.nameID = @location\r\n",
                "GROUP BY dateadd(hour, datediff(hour, 0, timestamp), 0)\r\n",
                "ORDER BY timestamp DESC"
            ],
            "metadata": {
                "azdata_cell_guid": "1c728ffe-fe94-47f2-ab63-17c93ad7be43"
            },
            "outputs": [],
            "execution_count": null
        },
        {
            "cell_type": "code",
            "source": [
                "-- per X minutes\r\n",
                "DECLARE @location VARCHAR(50);\r\n",
                "SET @location = 'cl-test-1';\r\n",
                "\r\n",
                "DECLARE @perMinutes INT;\r\n",
                "SET @perMinutes = 1;\r\n",
                "\r\n",
                "SELECT TOP 1000 dateadd(mi, datediff(mi,0, timestamp) / @perMinutes * @perMinutes, 0) as timestamp, AVG(temperatureDHT) as temperature, AVG(pressureLPS) as pressure, AVG(humidityDHT) as humidity, AVG(eco2) as eco2, AVG(wifiDevices) as wifiDevices, COUNT(timestamp) as '_count'\r\n",
                "FROM [iot].[messages] m\r\n",
                "INNER JOIN [iot].[locations] l\r\n",
                "ON m.locationID = l.id and l.nameID = @location\r\n",
                "GROUP BY dateadd(mi, datediff(mi,0, timestamp) / @perMinutes * @perMinutes, 0)\r\n",
                "ORDER BY timestamp DESC"
            ],
            "metadata": {
                "azdata_cell_guid": "c42b8adb-3a86-40c6-b264-87b1cb9554c9"
            },
            "outputs": [],
            "execution_count": null
        },
        {
            "cell_type": "code",
            "source": [
                "-- get the last data timestamp from each device\r\n",
                "SELECT l.name as location, l.owner as devOwner, MAX(m.timestamp) as last_data\r\n",
                "FROM [iot].[locations] l\r\n",
                "LEFT JOIN [iot].[messages] m\r\n",
                "ON l.id = m.locationID\r\n",
                "GROUP BY l.name, l.owner"
            ],
            "metadata": {
                "azdata_cell_guid": "24ec4e69-94cc-4a0d-8dfb-b1b0c8ff7e9a"
            },
            "outputs": [],
            "execution_count": null
        },
        {
            "cell_type": "markdown",
            "source": [
                "# Summary"
            ],
            "metadata": {
                "azdata_cell_guid": "7fcb8028-dd28-4417-be66-7c02ce5265e3"
            }
        },
        {
            "cell_type": "code",
            "source": [
                "With JoinedData AS (\r\n",
                "    SELECT l.name as name, l.nameID as locationID, dateadd(mi, datediff(mi,0, m.timestamp), 0) as timestamp, AVG(m.temperatureDHT) as temperature, AVG(m.pressureLPS) as pressure, AVG(m.humidityDHT) as humidity, AVG(m.eco2) as co2, AVG(m.wifiDevices) as devices, COUNT(m.timestamp) as '_count'\r\n",
                "    FROM [iot].[messages] m\r\n",
                "    INNER JOIN [iot].[locations] l\r\n",
                "    ON m.locationID = l.id\r\n",
                "    WHERE l.shown = 1\r\n",
                "    GROUP BY l.name, l.nameID, datediff(mi,0, m.timestamp)\r\n",
                "), WithIdx AS (\r\n",
                "    SELECT *, ROW_NUMBER() OVER (PARTITION BY name ORDER BY name ASC, timestamp DESC) as _idx\r\n",
                "    FROM JoinedData\r\n",
                ")\r\n",
                "SELECT *\r\n",
                "FROM WithIdx\r\n",
                "WHERE _idx < 16"
            ],
            "metadata": {
                "azdata_cell_guid": "be081d3c-d4c9-4044-a210-00ab8218bbc4"
            },
            "outputs": [],
            "execution_count": null
        }
    ]
}