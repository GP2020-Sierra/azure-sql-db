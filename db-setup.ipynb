{
    "metadata": {
        "kernelspec": {
            "name": "SQL",
            "display_name": "SQL",
            "language": "sql"
        },
        "language_info": {
            "name": "sql",
            "version": ""
        }
    },
    "nbformat_minor": 2,
    "nbformat": 4,
    "cells": [
        {
            "cell_type": "code",
            "source": [
                "CREATE SCHEMA iot\r\n",
                "GO"
            ],
            "metadata": {
                "azdata_cell_guid": "b2657155-7e3b-4c6e-9f1a-49e7d51518c5",
                "tags": [
                    "hide_input"
                ]
            },
            "outputs": [],
            "execution_count": null
        },
        {
            "cell_type": "code",
            "source": [
                "CREATE TABLE [iot].[locations]\r\n",
                "(\r\n",
                "    [id] INT NOT NULL IDENTITY(1,1) PRIMARY KEY,\r\n",
                "    [owner] NVARCHAR(50) NOT NULL,\r\n",
                "    [name] NVARCHAR(50) NOT NULL UNIQUE,\r\n",
                "    [nameID] NVARCHAR(50) NOT NULL UNIQUE,\r\n",
                "    [shown] BIT NOT NULL DEFAULT (1)\r\n",
                ");\r\n",
                "GO"
            ],
            "metadata": {
                "azdata_cell_guid": "ded7ba95-f9e9-4a13-ac6f-4099a109339e",
                "tags": []
            },
            "outputs": [],
            "execution_count": null
        },
        {
            "cell_type": "code",
            "source": [
                "CREATE TABLE [iot].[messages]\r\n",
                "(\r\n",
                "    [id] INT NOT NULL IDENTITY(1,1) PRIMARY KEY, -- Primary Key column\r\n",
                "    [locationID] INT NOT NULL,\r\n",
                "    [timestamp] DATETIME2(0) NOT NULL,\r\n",
                "    [readingNumber] INT NOT NULL,\r\n",
                "    [temperatureLPS] REAL NOT NULL,\r\n",
                "    [temperatureLSM] REAL NOT NULL,\r\n",
                "    [temperatureDHT] REAL NOT NULL,\r\n",
                "    [pressureLPS] REAL NOT NULL,\r\n",
                "    [humidityDHT] REAL NOT NULL,\r\n",
                "    [eco2] SMALLINT NOT NULL,\r\n",
                "    [tvoc] SMALLINT NOT NULL,\r\n",
                "    [wifiDevices] SMALLINT NOT NULL,\r\n",
                "    [wifiBaseStations] SMALLINT NOT NULL,\r\n",
                "    CONSTRAINT FK_messages_location FOREIGN KEY (locationID)\r\n",
                "        REFERENCES [iot].[locations] (id)\r\n",
                "        ON DELETE NO ACTION\r\n",
                "        ON UPDATE CASCADE\r\n",
                ");\r\n",
                "GO"
            ],
            "metadata": {
                "azdata_cell_guid": "c678cbf3-70d7-4565-ad94-bce3cfb57699"
            },
            "outputs": [],
            "execution_count": null
        },
        {
            "cell_type": "markdown",
            "source": [
                "Generate a secure password for Azure to use to access the database, and replace it below:"
            ],
            "metadata": {
                "azdata_cell_guid": "9e42e779-5d02-4658-8c17-fe119c57db0e"
            }
        },
        {
            "cell_type": "code",
            "source": [
                "CREATE USER azureData WITH PASSWORD = '[ENTER A PASSWORD]';\r\n",
                "GRANT INSERT, SELECT TO azureData; "
            ],
            "metadata": {
                "azdata_cell_guid": "244a78c9-93a7-4c07-8da5-6990726d7c31",
                "tags": []
            },
            "outputs": [],
            "execution_count": null
        }
    ]
}