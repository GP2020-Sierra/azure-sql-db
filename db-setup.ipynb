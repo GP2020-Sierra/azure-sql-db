{
    "metadata": {
        "kernelspec": {
            "name": "SQL",
            "display_name": "SQL",
            "language": "sql"
        },
        "language_info": {
            "name": "sql",
            "version": ""
        }
    },
    "nbformat_minor": 2,
    "nbformat": 4,
    "cells": [
        {
            "cell_type": "code",
            "source": [
                "CREATE SCHEMA iot\r\n",
                "GO"
            ],
            "metadata": {
                "azdata_cell_guid": "b2657155-7e3b-4c6e-9f1a-49e7d51518c5"
            },
            "outputs": [
                {
                    "output_type": "error",
                    "evalue": "Msg 2714, Level 16, State 6, Line 1\r\nThere is already an object named 'iot' in the database.",
                    "ename": "",
                    "traceback": []
                },
                {
                    "output_type": "error",
                    "evalue": "Msg 2759, Level 16, State 0, Line 1\r\nCREATE SCHEMA failed due to previous errors.",
                    "ename": "",
                    "traceback": []
                },
                {
                    "output_type": "display_data",
                    "data": {
                        "text/html": "Total execution time: 00:00:00.021"
                    },
                    "metadata": {}
                }
            ],
            "execution_count": 2
        },
        {
            "cell_type": "code",
            "source": [
                "CREATE TABLE [iot].[locations]\r\n",
                "(\r\n",
                "    [id] INT NOT NULL IDENTITY(1,1) PRIMARY KEY,\r\n",
                "    [owner] NVARCHAR(50) NOT NULL,\r\n",
                "    [name] NVARCHAR(50) NOT NULL UNIQUE,\r\n",
                "    [nameID] NVARCHAR(50) NOT NULL UNIQUE\r\n",
                ");\r\n",
                "GO"
            ],
            "metadata": {
                "azdata_cell_guid": "ded7ba95-f9e9-4a13-ac6f-4099a109339e",
                "tags": [
                    "hide_input"
                ]
            },
            "outputs": [
                {
                    "output_type": "display_data",
                    "data": {
                        "text/html": "Commands completed successfully."
                    },
                    "metadata": {}
                },
                {
                    "output_type": "display_data",
                    "data": {
                        "text/html": "Total execution time: 00:00:00.030"
                    },
                    "metadata": {}
                }
            ],
            "execution_count": 3
        },
        {
            "cell_type": "code",
            "source": [
                "CREATE TABLE [iot].[messages]\r\n",
                "(\r\n",
                "    [id] INT NOT NULL IDENTITY(1,1) PRIMARY KEY, -- Primary Key column\r\n",
                "    [locationID] INT NOT NULL,\r\n",
                "    [timestamp] DATETIME2(0) NOT NULL,\r\n",
                "    [readingNumber] INT NOT NULL,\r\n",
                "    [temperatureLPS] REAL NOT NULL,\r\n",
                "    [temperatureLSM] REAL NOT NULL,\r\n",
                "    [temperatureDHT] REAL NOT NULL,\r\n",
                "    [pressureLPS] REAL NOT NULL,\r\n",
                "    [humidityDHT] REAL NOT NULL,\r\n",
                "    [eco2] SMALLINT NOT NULL,\r\n",
                "    [tvoc] SMALLINT NOT NULL,\r\n",
                "    [wifiDevices] SMALLINT NOT NULL,\r\n",
                "    [wifiBaseStations] SMALLINT NOT NULL,\r\n",
                "    CONSTRAINT FK_messages_location FOREIGN KEY (locationID)\r\n",
                "        REFERENCES [iot].[locations] (id)\r\n",
                "        ON DELETE NO ACTION\r\n",
                "        ON UPDATE CASCADE\r\n",
                ");\r\n",
                "GO"
            ],
            "metadata": {
                "azdata_cell_guid": "c678cbf3-70d7-4565-ad94-bce3cfb57699"
            },
            "outputs": [
                {
                    "output_type": "display_data",
                    "data": {
                        "text/html": "Commands completed successfully."
                    },
                    "metadata": {}
                },
                {
                    "output_type": "display_data",
                    "data": {
                        "text/html": "Total execution time: 00:00:00.017"
                    },
                    "metadata": {}
                }
            ],
            "execution_count": 4
        },
        {
            "cell_type": "code",
            "source": [
                "CREATE USER azureData WITH PASSWORD = '[ENTER A PASSWORD]';\r\n",
                "GRANT INSERT, SELECT TO azureData; "
            ],
            "metadata": {
                "azdata_cell_guid": "244a78c9-93a7-4c07-8da5-6990726d7c31",
                "tags": []
            },
            "outputs": [
                {
                    "output_type": "error",
                    "ename": "",
                    "evalue": "Msg 15023, Level 16, State 1, Line 1\r\nUser, group, or role 'azureData' already exists in the current database.",
                    "traceback": []
                },
                {
                    "output_type": "display_data",
                    "data": {
                        "text/html": "Total execution time: 00:00:00.105"
                    },
                    "metadata": {}
                }
            ],
            "execution_count": 9
        },
        {
            "cell_type": "code",
            "source": [
                "-- ALTER TABLE [iot].[messages] DROP CONSTRAINT FK_messages_location;\r\n",
                "-- DROP TABLE [iot].[messages]\r\n",
                "\r\n",
                "-- DROP TABLE [iot].[locations]"
            ],
            "metadata": {
                "azdata_cell_guid": "7891cdfc-863b-4e4b-af00-fc54ca31e164"
            },
            "outputs": [
                {
                    "output_type": "display_data",
                    "data": {
                        "text/html": "Commands completed successfully."
                    },
                    "metadata": {}
                },
                {
                    "output_type": "display_data",
                    "data": {
                        "text/html": "Total execution time: 00:00:00.048"
                    },
                    "metadata": {}
                }
            ],
            "execution_count": 1
        }
    ]
}