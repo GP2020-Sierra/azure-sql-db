{
    "metadata": {
        "kernelspec": {
            "name": "SQL",
            "display_name": "SQL",
            "language": "sql"
        },
        "language_info": {
            "name": "sql",
            "version": ""
        }
    },
    "nbformat_minor": 2,
    "nbformat": 4,
    "cells": [
        {
            "cell_type": "code",
            "source": [
                "DECLARE @owner NVARCHAR(50), @name NVARCHAR(50), @nameID NVARCHAR(50);  \n",
                "SET @owner = 'Ethan';\n",
                "SET @name = 'Churchill 1C';\n",
                "SET @nameID = 'churchill-1c';\n",
                "\n",
                "BEGIN TRAN\n",
                "    IF EXISTS (SELECT l.id FROM [iot].[locations] l WITH (updlock, rowlock, holdlock) where l.nameID = @nameID) BEGIN\n",
                "        SELECT l.id as id FROM [iot].[locations] l where l.nameID = @nameID;\n",
                "    END ELSE BEGIN\n",
                "        INSERT INTO [iot].[locations] (owner, name, nameID)\n",
                "        -- OUTPUT INSERTED.id into @locID\n",
                "        VALUES (@owner, @name, @nameID);\n",
                "\n",
                "        SELECT SCOPE_IDENTITY() as id;\n",
                "    END;\n",
                "COMMIT"
            ],
            "metadata": {
                "azdata_cell_guid": "b3fa0526-23aa-43b5-9a13-d4ca92c799fb",
                "tags": []
            },
            "outputs": [
                {
                    "output_type": "display_data",
                    "data": {
                        "text/html": "(1 row affected)"
                    },
                    "metadata": {}
                },
                {
                    "output_type": "display_data",
                    "data": {
                        "text/html": "Total execution time: 00:00:00.011"
                    },
                    "metadata": {}
                },
                {
                    "output_type": "execute_result",
                    "metadata": {},
                    "execution_count": 125,
                    "data": {
                        "application/vnd.dataresource+json": {
                            "schema": {
                                "fields": [
                                    {
                                        "name": "id"
                                    }
                                ]
                            },
                            "data": [
                                {
                                    "0": "2"
                                }
                            ]
                        },
                        "text/html": "<table><tr><th>id</th></tr><tr><td>2</td></tr></table>"
                    }
                }
            ],
            "execution_count": 125
        },
        {
            "cell_type": "code",
            "source": [
                "INSERT INTO [iot].[messages] ([locationID], [timestamp], [readingNumber], [temperatureLPS], [temperatureLSM], [temperatureDHT], [pressureLPS], [humidityDHT], [eco2], [tvoc], [wifiDevices], [wifiBaseStations])\r\n",
                "VALUES (1, dateadd(S, 0, '1970-01-01'), 0, 0.0, 0.0, 0.0, 0.0, 0.0, 1, 1, 1, 1);"
            ],
            "metadata": {
                "azdata_cell_guid": "649b98bf-9619-4c53-9275-f0f42b4752b2"
            },
            "outputs": [
                {
                    "output_type": "display_data",
                    "data": {
                        "text/html": "(1 row affected)"
                    },
                    "metadata": {}
                },
                {
                    "output_type": "display_data",
                    "data": {
                        "text/html": "Total execution time: 00:00:00.055"
                    },
                    "metadata": {}
                }
            ],
            "execution_count": 128
        }
    ]
}