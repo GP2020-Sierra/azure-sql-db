{
    "metadata": {
        "kernelspec": {
            "name": "SQL",
            "display_name": "SQL",
            "language": "sql"
        },
        "language_info": {
            "name": "sql",
            "version": ""
        }
    },
    "nbformat_minor": 2,
    "nbformat": 4,
    "cells": [
        {
            "cell_type": "code",
            "source": [
                "BEGIN TRAN\n",
                "    IF EXISTS (SELECT l.id FROM [iot].[locations] l WITH (updlock, rowlock, holdlock) where l.nameID = @nameID) BEGIN\n",
                "        SELECT l.id as id FROM [iot].[locations] l where l.nameID = @nameID;\n",
                "    END ELSE BEGIN\n",
                "        INSERT INTO [iot].[locations] (owner, name, nameID)\n",
                "        VALUES (@owner, @name, @nameID);\n",
                "        SELECT SCOPE_IDENTITY() as id;\n",
                "    END;\n",
                "COMMIT"
            ],
            "metadata": {
                "azdata_cell_guid": "b3fa0526-23aa-43b5-9a13-d4ca92c799fb",
                "tags": []
            },
            "outputs": [],
            "execution_count": null
        },
        {
            "cell_type": "code",
            "source": [
                "INSERT INTO [iot].[messages] ([locationID], [timestamp], [readingNumber], [temperatureLPS], [temperatureLSM], [temperatureDHT], [pressureLPS], [humidityDHT], [eco2], [tvoc], [wifiDevices], [wifiBaseStations])\r\n",
                "VALUES (@locationID, dateadd(S, @timestamp, '1970-01-01'), @readingNumber, @temperatureLPS, @temperatureLSM, @temperatureDHT, @pressureLPS, @humidityDHT, @eco2, @tvoc, @wifiDevices, @wifiBaseStations);"
            ],
            "metadata": {
                "azdata_cell_guid": "649b98bf-9619-4c53-9275-f0f42b4752b2"
            },
            "outputs": [],
            "execution_count": null
        }
    ]
}